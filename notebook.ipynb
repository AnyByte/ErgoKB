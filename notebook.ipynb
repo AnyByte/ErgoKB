{
 "nbformat": 4,
 "nbformat_minor": 2,
 "metadata": {
  "language_info": {
   "name": "python",
   "codemirror_mode": {
    "name": "ipython",
    "version": 3
   },
   "version": "3.7.4"
  },
  "orig_nbformat": 2,
  "file_extension": ".py",
  "mimetype": "text/x-python",
  "name": "python",
  "npconvert_exporter": "python",
  "pygments_lexer": "ipython3",
  "version": 3,
  "pycharm": {
   "stem_cell": {
    "cell_type": "raw",
    "source": [],
    "metadata": {
     "collapsed": false
    }
   }
  },
  "kernelspec": {
   "name": "python3",
   "language": "python",
   "display_name": "Python 3"
  }
 },
 "cells": [
  {
   "cell_type": "code",
   "execution_count": 82,
   "metadata": {},
   "outputs": [],
   "source": [
    "import matplotlib.pyplot as plt\n",
    "import numpy as np\n",
    "import pandas as pd\n",
    "from bs4 import BeautifulSoup\n",
    "import copy\n",
    "import math\n",
    "import json\n",
    "import re"
   ]
  },
  {
   "cell_type": "code",
   "execution_count": 2,
   "metadata": {},
   "outputs": [],
   "source": [
    "# Enable inline plots\n",
    "%matplotlib inline"
   ]
  },
  {
   "cell_type": "code",
   "execution_count": 3,
   "metadata": {},
   "outputs": [],
   "source": [
    "pd.set_option(\"display.width\", 70)"
   ]
  },
  {
   "cell_type": "code",
   "execution_count": 35,
   "metadata": {},
   "outputs": [],
   "source": [
    "def calculateDistance(x1,y1,x2,y2):  \n",
    "     dist = math.sqrt((x2 - x1)**2 + (y2 - y1)**2)  \n",
    "     return dist"
   ]
  },
  {
   "cell_type": "code",
   "execution_count": 99,
   "metadata": {},
   "outputs": [],
   "source": [
    "def cleanhtml(raw_html):\n",
    "    soup = BeautifulSoup(raw_html, \"lxml\")\n",
    "    spans = soup.find_all('span')\n",
    "    lowercase = ''.join([i.text.replace('Пользователь 2: ', '').replace('Пользователь 1: ', '') for i in spans]).lower()\n",
    "    return re.sub('[^а-я]+', '', lowercase)"
   ]
  },
  {
   "cell_type": "code",
   "execution_count": 21,
   "metadata": {},
   "outputs": [],
   "source": [
    "def shift_row(c, row_num, value):\n",
    "    new_coords = copy.deepcopy(c)\n",
    "    for idx, cell in enumerate(new_coords[row_num]):\n",
    "        new_coords[row_num][idx][0] = new_coords[row_num][idx][0] + value\n",
    "    return new_coords"
   ]
  },
  {
   "cell_type": "code",
   "execution_count": 20,
   "metadata": {},
   "outputs": [],
   "source": [
    "def shift_col(c, col_num, value):\n",
    "    new_coords = copy.deepcopy(c)\n",
    "    for idx, row in enumerate(new_coords):\n",
    "        new_coords[idx][col_num][1] = new_coords[idx][col_num][1] + value\n",
    "    return new_coords"
   ]
  },
  {
   "cell_type": "code",
   "execution_count": 7,
   "metadata": {},
   "outputs": [],
   "source": [
    "keyboard = [\n",
    "    ['й','ц','у','к','е','н','г','ш','щ','з','х','ъ'],\n",
    "    ['ф','ы','в','а','п','р','о','л','д','ж','э',''],\n",
    "    ['я','ч','с','м','и','т','ь','б','ю','','',''],\n",
    "]"
   ]
  },
  {
   "cell_type": "code",
   "execution_count": 62,
   "metadata": {},
   "outputs": [],
   "source": [
    "thumbs = [\n",
    "    ['ЛМ','ЛБ','ЛС','ЛУ','ЛУ','ПУ','ПУ','ПС','ПБ','ПМ','ПМ','ПМ'],\n",
    "    ['ЛМ','ЛБ','ЛС','ЛУ','ЛУ','ПУ','ПУ','ПС','ПБ','ПМ','ПМ','ПМ'],\n",
    "    ['ЛМ','ЛБ','ЛС','ЛУ','ЛУ','ПУ','ПУ','ПС','ПБ','ПМ','ПМ','ПМ'],\n",
    "]"
   ]
  },
  {
   "cell_type": "code",
   "execution_count": 149,
   "metadata": {},
   "outputs": [],
   "source": [
    "coords = [\n",
    "    [[0,36],[18,36],[36,36],[54,36],[72,36],[90,36],[108,36],[126,36],[144,36],[162,36],[180,36],[198,36]],\n",
    "    [[0,18],[18,18],[36,18],[54,18],[72,18],[90,18],[108,18],[126,18],[144,18],[162,18],[180,18],[198,18]],\n",
    "    [[0,0],[18,0],[36,0],[54,0],[72,0],[90,0],[108,0],[126,0],[144,0],[162,0],[180,0],[198,0]],\n",
    "]"
   ]
  },
  {
   "cell_type": "code",
   "execution_count": 76,
   "metadata": {},
   "outputs": [],
   "source": [
    "def get_mapper(c, k):\n",
    "    text_mapper = {\n",
    "        item: {\n",
    "            'x': c[idx][idy][0],\n",
    "            'y': c[idx][idy][1],\n",
    "            'thumb': thumbs[idx][idy]\n",
    "        } for idx, sublist in enumerate(k) for idy, item in enumerate(sublist)\n",
    "    }\n",
    "    # print(json.dumps(text_mapper, indent=2, ensure_ascii=False))\n",
    "    return text_mapper"
   ]
  },
  {
   "cell_type": "code",
   "execution_count": 152,
   "metadata": {},
   "outputs": [
    {
     "data": {
      "image/png": "[encoded data removed]",
      "text/plain": "<Figure size 432x288 with 1 Axes>"
     },
     "metadata": {
      "image/png": {
       "height": 134,
       "width": 368
      },
      "needs_background": "light"
     },
     "output_type": "display_data"
    }
   ],
   "source": [
    "# new_coords = shift_row(coords, 1, 0)\n",
    "# new_coords = shift_col(coords, 2, 0)\n",
    "\n",
    "x = [i[0] for i in [item for sublist in new_coords for item in sublist]]\n",
    "y = [i[1] for i in [item for sublist in new_coords for item in sublist]]\n",
    "n = [item for sublist in keyboard for item in sublist]\n",
    "\n",
    "fig, ax = plt.subplots()\n",
    "ax.scatter(x, y, marker=\",\", s=620)\n",
    "ax.set_title('Координаты клавиш', fontsize=10)\n",
    "ax.set_aspect('equal', 'box')\n",
    "\n",
    "# Or if you want different settings for the grids:\n",
    "major_ticks = np.arange(-20, 210, 20)\n",
    "minor_ticks = np.arange(-20, 210, 5)\n",
    "\n",
    "ax.set_xticks(major_ticks)\n",
    "ax.set_xticks(minor_ticks, minor=True)\n",
    "ax.set_yticks(major_ticks)\n",
    "ax.set_yticks(minor_ticks, minor=True)\n",
    "\n",
    "# And a corresponding grid\n",
    "ax.grid(which='both')\n",
    "\n",
    "# Or if you want different settings for the grids:\n",
    "ax.grid(which='minor', alpha=0.2)\n",
    "ax.grid(which='major', alpha=0.5)\n",
    "\n",
    "ax.axis([-12, 210, -12, 48])\n",
    "\n",
    "for i, txt in enumerate(n):\n",
    "    ax.annotate(txt, (x[i], y[i]), color='white')"
   ]
  },
  {
   "cell_type": "code",
   "execution_count": 39,
   "metadata": {},
   "outputs": [
    {
     "name": "stdout",
     "output_type": "stream",
     "text": "201.24611797498108\n"
    }
   ],
   "source": [
    "x1, y1 = coords[0][0][0], coords[0][0][1]\n",
    "x2, y2 = coords[2][11][0], coords[2][11][1]\n",
    "\n",
    "print(calculateDistance(x1, y1, x2, y2))"
   ]
  },
  {
   "cell_type": "code",
   "execution_count": 24,
   "metadata": {},
   "outputs": [],
   "source": [
    "# Set plots formats to save high resolution PNG\n",
    "from IPython.display import set_matplotlib_formats\n",
    "set_matplotlib_formats(\"retina\")"
   ]
  },
  {
   "cell_type": "code",
   "execution_count": 100,
   "metadata": {},
   "outputs": [],
   "source": [
    "dialogues = pd.read_csv(\"datasets/dialogues.tsv\", sep='\\t')[['dialogue']]"
   ]
  },
  {
   "cell_type": "code",
   "execution_count": 101,
   "metadata": {},
   "outputs": [],
   "source": [
    "dialogues['dialogue'] = dialogues['dialogue'].apply(cleanhtml)"
   ]
  },
  {
   "cell_type": "code",
   "execution_count": 102,
   "metadata": {},
   "outputs": [
    {
     "data": {
      "text/html": "<div>\n<style scoped>\n    .dataframe tbody tr th:only-of-type {\n        vertical-align: middle;\n    }\n\n    .dataframe tbody tr th {\n        vertical-align: top;\n    }\n\n    .dataframe thead th {\n        text-align: right;\n    }\n</style>\n<table border=\"1\" class=\"dataframe\">\n  <thead>\n    <tr style=\"text-align: right;\">\n      <th></th>\n      <th>dialogue</th>\n    </tr>\n  </thead>\n  <tbody>\n    <tr>\n      <th>0</th>\n      <td>приветрасскажиосебеприветподвкусныйкофеекнастр...</td>\n    </tr>\n    <tr>\n      <th>1</th>\n      <td>приветприветкакжизньотличносолнышкосветитптичк...</td>\n    </tr>\n    <tr>\n      <th>2</th>\n      <td>приветкакделадобрыйденьхорошочемувлекаетесьябе...</td>\n    </tr>\n    <tr>\n      <th>3</th>\n      <td>здравствуйтеялешаздравствуйтеяегоряучусьвкласс...</td>\n    </tr>\n    <tr>\n      <th>4</th>\n      <td>приветприветкактвоиделанормальноготовлюськосну...</td>\n    </tr>\n  </tbody>\n</table>\n</div>",
      "text/plain": "                                            dialogue\n0  приветрасскажиосебеприветподвкусныйкофеекнастр...\n1  приветприветкакжизньотличносолнышкосветитптичк...\n2  приветкакделадобрыйденьхорошочемувлекаетесьябе...\n3  здравствуйтеялешаздравствуйтеяегоряучусьвкласс...\n4  приветприветкактвоиделанормальноготовлюськосну..."
     },
     "execution_count": 102,
     "metadata": {},
     "output_type": "execute_result"
    }
   ],
   "source": [
    "dialogues.head()"
   ]
  },
  {
   "cell_type": "code",
   "execution_count": 109,
   "metadata": {},
   "outputs": [],
   "source": [
    "sample = dialogues['dialogue'].iloc[0]\n"
   ]
  },
  {
   "cell_type": "code",
   "execution_count": 145,
   "metadata": {},
   "outputs": [],
   "source": [
    "def count_distance(coords, text):\n",
    "    mapper = get_mapper(coords, keyboard)\n",
    "    distances = {\n",
    "        'ЛМ': 0, \n",
    "        'ЛБ': 0,\n",
    "        'ЛС': 0,\n",
    "        'ЛУ': 0,\n",
    "        'ПУ': 0,\n",
    "        'ПС': 0,\n",
    "        'ПБ': 0,\n",
    "        'ПМ': 0,\n",
    "    }\n",
    "    default_position = {\n",
    "        'ЛМ': coords[1][0], \n",
    "        'ЛБ': coords[1][1],\n",
    "        'ЛС': coords[1][2],\n",
    "        'ЛУ': coords[1][3],\n",
    "        'ПУ': coords[1][6],\n",
    "        'ПС': coords[1][7],\n",
    "        'ПБ': coords[1][8],\n",
    "        'ПМ': coords[1][9],\n",
    "    }\n",
    "    for idx, char in enumerate(text):\n",
    "        x1 = default_position[mapper[char]['thumb']][0]\n",
    "        y1 = default_position[mapper[char]['thumb']][1]\n",
    "\n",
    "        x2 = mapper[char]['x']\n",
    "        y2 = mapper[char]['y']\n",
    "\n",
    "        distance = calculateDistance(x1, y1, x2, y2)\n",
    "\n",
    "        if idx + 1 < len(text):\n",
    "            next_char = text[idx + 1]\n",
    "            if mapper[next_char]['thumb'] != mapper[char]['thumb']:\n",
    "                distance += calculateDistance(x2, y2, x1, y1)\n",
    "            if idx > 0:\n",
    "                prev_char = text[idx - 1]\n",
    "                if mapper[prev_char]['thumb'] == mapper[char]['thumb']:\n",
    "                    x1 = mapper[prev_char]['x']\n",
    "                    y1 = mapper[prev_char]['y']\n",
    "                    distance = calculateDistance(x1, y1, x2, y2)\n",
    "\n",
    "        distances[mapper[char]['thumb']] += distance\n",
    "    return distances\n",
    "\n"
   ]
  },
  {
   "cell_type": "code",
   "execution_count": 154,
   "metadata": {},
   "outputs": [
    {
     "data": {
      "text/plain": "{'ЛМ': 432.0,\n 'ЛБ': 216.0,\n 'ЛС': 900.0,\n 'ЛУ': 2881.2278066509393,\n 'ПУ': 2305.5998709579385,\n 'ПС': 450.0,\n 'ПБ': 468.0,\n 'ПМ': 245.82337649086287}"
     },
     "execution_count": 154,
     "metadata": {},
     "output_type": "execute_result"
    }
   ],
   "source": [
    "count_distance(coords, sample)"
   ]
  },
  {
   "cell_type": "code",
   "execution_count": null,
   "metadata": {},
   "outputs": [],
   "source": []
  },
  {
   "cell_type": "code",
   "execution_count": null,
   "metadata": {},
   "outputs": [],
   "source": []
  }
 ]
}