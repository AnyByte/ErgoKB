{
 "nbformat": 4,
 "nbformat_minor": 2,
 "metadata": {
  "language_info": {
   "name": "python",
   "codemirror_mode": {
    "name": "ipython",
    "version": 3
   },
   "version": "3.7.4-final"
  },
  "orig_nbformat": 2,
  "file_extension": ".py",
  "mimetype": "text/x-python",
  "name": "python",
  "npconvert_exporter": "python",
  "pygments_lexer": "ipython3",
  "version": 3,
  "pycharm": {
   "stem_cell": {
    "cell_type": "raw",
    "source": [],
    "metadata": {
     "collapsed": false
    }
   }
  },
  "kernelspec": {
   "name": "python3",
   "language": "python",
   "display_name": "Python 3"
  }
 },
 "cells": [
  {
   "cell_type": "markdown",
   "execution_count": null,
   "metadata": {},
   "outputs": [],
   "source": [
    "# Импорт библиотек"
   ]
  },
  {
   "cell_type": "code",
   "execution_count": 1,
   "metadata": {},
   "outputs": [],
   "source": [
    "import matplotlib.pyplot as plt\n",
    "import numpy as np\n",
    "import seaborn as sb\n",
    "import pandas as pd\n",
    "from bs4 import BeautifulSoup\n",
    "import copy\n",
    "import math\n",
    "import json\n",
    "import re"
   ]
  },
  {
   "cell_type": "code",
   "execution_count": 2,
   "metadata": {},
   "outputs": [],
   "source": [
    "# Enable inline plots\n",
    "%matplotlib inline"
   ]
  },
  {
   "cell_type": "code",
   "execution_count": 3,
   "metadata": {},
   "outputs": [],
   "source": [
    "pd.set_option(\"display.width\", 70)"
   ]
  },
  {
   "cell_type": "code",
   "execution_count": 53,
   "metadata": {},
   "outputs": [],
   "source": [
    "# Set plots formats to save high resolution PNG\n",
    "from IPython.display import set_matplotlib_formats\n",
    "set_matplotlib_formats(\"retina\")"
   ]
  },
  {
   "cell_type": "markdown",
   "execution_count": null,
   "metadata": {},
   "outputs": [],
   "source": [
    "## Предобработка датасета"
   ]
  },
  {
   "cell_type": "code",
   "execution_count": 4,
   "metadata": {},
   "outputs": [],
   "source": [
    "def cleanhtml(raw_html):\n",
    "    soup = BeautifulSoup(raw_html, \"lxml\")\n",
    "    spans = soup.find_all('span')\n",
    "    lowercase = ''.join([i.text.replace('Пользователь 2: ', '').replace('Пользователь 1: ', '') for i in spans]).lower()\n",
    "    return re.sub('[^а-я]+', '', lowercase)"
   ]
  },
  {
   "cell_type": "markdown",
   "execution_count": null,
   "metadata": {},
   "outputs": [],
   "source": [
    "## Вычисление дистанции между двумя координатами"
   ]
  },
  {
   "cell_type": "code",
   "execution_count": 5,
   "metadata": {},
   "outputs": [],
   "source": [
    "def calculateDistance(x1,y1,x2,y2):  \n",
    "     dist = math.sqrt((x2 - x1)**2 + (y2 - y1)**2)  \n",
    "     return dist"
   ]
  },
  {
   "cell_type": "markdown",
   "execution_count": null,
   "metadata": {},
   "outputs": [],
   "source": [
    "## Хитмап дистанции пальцев"
   ]
  },
  {
   "cell_type": "code",
   "execution_count": 58,
   "metadata": {},
   "outputs": [],
   "source": [
    "def finger_heatmap(finger_distances):\n",
    "    return [[\n",
    "        finger_distances['ЛМ'],\n",
    "        finger_distances['ЛБ'],\n",
    "        finger_distances['ЛС'],\n",
    "        finger_distances['ЛУ'],\n",
    "        finger_distances['ПУ'],\n",
    "        finger_distances['ПС'],\n",
    "        finger_distances['ПБ'],\n",
    "        finger_distances['ПМ']\n",
    "    ]]"
   ]
  },
  {
   "cell_type": "markdown",
   "execution_count": null,
   "metadata": {},
   "outputs": [],
   "source": [
    "## Сдвиг ряда"
   ]
  },
  {
   "cell_type": "code",
   "execution_count": 6,
   "metadata": {},
   "outputs": [],
   "source": [
    "def shift_row(c, row_num, value):\n",
    "    new_coords = copy.deepcopy(c)\n",
    "    for idx, cell in enumerate(new_coords[row_num]):\n",
    "        new_coords[row_num][idx][0] = new_coords[row_num][idx][0] + value\n",
    "    return new_coords"
   ]
  },
  {
   "cell_type": "markdown",
   "execution_count": null,
   "metadata": {},
   "outputs": [],
   "source": [
    "## Сдвиг столбца"
   ]
  },
  {
   "cell_type": "code",
   "execution_count": 7,
   "metadata": {},
   "outputs": [],
   "source": [
    "def shift_col(c, col_num, value):\n",
    "    new_coords = copy.deepcopy(c)\n",
    "    for idx, row in enumerate(new_coords):\n",
    "        new_coords[idx][col_num][1] = new_coords[idx][col_num][1] + value\n",
    "    return new_coords"
   ]
  },
  {
   "cell_type": "markdown",
   "execution_count": null,
   "metadata": {},
   "outputs": [],
   "source": [
    "## Словарь пальцев и координат"
   ]
  },
  {
   "cell_type": "code",
   "execution_count": 99,
   "metadata": {},
   "outputs": [],
   "source": [
    "def get_mapper(c, k, thumbs):\n",
    "    text_mapper = {\n",
    "        item: {\n",
    "            'x': c[idx][idy][0],\n",
    "            'y': c[idx][idy][1],\n",
    "            'thumb': thumbs[idx][idy]\n",
    "        } for idx, sublist in enumerate(k) for idy, item in enumerate(sublist)\n",
    "    }\n",
    "    # print(json.dumps(text_mapper, indent=2, ensure_ascii=False))\n",
    "    return text_mapper"
   ]
  },
  {
   "cell_type": "markdown",
   "execution_count": null,
   "metadata": {},
   "outputs": [],
   "source": [
    "## Раскладка QERTY "
   ]
  },
  {
   "cell_type": "code",
   "execution_count": 9,
   "metadata": {},
   "outputs": [],
   "source": [
    "QWERTY = [\n",
    "    ['й','ц','у','к','е','н','г','ш','щ','з','х','ъ'],\n",
    "    ['ф','ы','в','а','п','р','о','л','д','ж','э',''],\n",
    "    ['я','ч','с','м','и','т','ь','б','ю','','',''],\n",
    "]"
   ]
  },
  {
   "cell_type": "markdown",
   "execution_count": null,
   "metadata": {},
   "outputs": [],
   "source": [
    "## Распределение пальцев по зонам\n",
    "- ЛМ - левый мезинец\n",
    "- ЛБ - левый безымянный\n",
    "- ЛС - левый средний\n",
    "- ЛУ - левый указательный\n",
    "- ПУ - правый указательный\n",
    "- ПС - правый средний\n",
    "- ПБ - правый безымянный\n",
    "- ПМ - правый мезинец"
   ]
  },
  {
   "cell_type": "code",
   "execution_count": 136,
   "metadata": {},
   "outputs": [],
   "source": [
    "THUMBS = [\n",
    "    ['ЛМ','ЛБ','ЛС','ЛУ','ЛУ','ПУ','ПУ','ПС','ПБ','ПМ','ПМ','ПМ'],\n",
    "    ['ЛМ','ЛБ','ЛС','ЛУ','ЛУ','ПУ','ПУ','ПС','ПБ','ПМ','ПМ','ПМ'],\n",
    "    ['ЛМ','ЛБ','ЛС','ЛУ','ЛУ','ПУ','ПУ','ПС','ПБ','ПМ','ПМ','ПМ'],\n",
    "]"
   ]
  },
  {
   "cell_type": "markdown",
   "execution_count": null,
   "metadata": {},
   "outputs": [],
   "source": [
    "## Координаты клавиш по-умолчанию (ортолинейная клавиатура)\n",
    "### (Левый нижний угол клавиши)"
   ]
  },
  {
   "cell_type": "code",
   "execution_count": 11,
   "metadata": {},
   "outputs": [],
   "source": [
    "COORDS = [\n",
    "    [[0,36],[18,36],[36,36],[54,36],[72,36],[90,36],[108,36],[126,36],[144,36],[162,36],[180,36],[198,36]],\n",
    "    [[0,18],[18,18],[36,18],[54,18],[72,18],[90,18],[108,18],[126,18],[144,18],[162,18],[180,18],[198,18]],\n",
    "    [[0,0],[18,0],[36,0],[54,0],[72,0],[90,0],[108,0],[126,0],[144,0],[162,0],[180,0],[198,0]],\n",
    "]"
   ]
  },
  {
   "cell_type": "code",
   "execution_count": 50,
   "metadata": {},
   "outputs": [],
   "source": [
    "def draw_keyboard(coords):\n",
    "    x = [i[0] for i in [item for sublist in coords for item in sublist]]\n",
    "    y = [i[1] for i in [item for sublist in coords for item in sublist]]\n",
    "    n = [item for sublist in QWERTY for item in sublist]\n",
    "\n",
    "    fig, ax = plt.subplots()\n",
    "    ax.scatter(x, y, marker=\",\", s=620, color=(0.5, 0.5, 0.5))\n",
    "    ax.set_title('Координаты клавиш', fontsize=10)\n",
    "    ax.set_aspect('equal', 'box')\n",
    "\n",
    "    # Or if you want different settings for the grids:\n",
    "    major_ticks = np.arange(-20, 210, 20)\n",
    "    minor_ticks = np.arange(-20, 210, 5)\n",
    "\n",
    "    ax.set_xticks(major_ticks)\n",
    "    ax.set_xticks(minor_ticks, minor=True)\n",
    "    ax.set_yticks(major_ticks)\n",
    "    ax.set_yticks(minor_ticks, minor=True)\n",
    "\n",
    "    # And a corresponding grid\n",
    "    ax.grid(which='both')\n",
    "\n",
    "    # Or if you want different settings for the grids:\n",
    "    ax.grid(which='minor', alpha=0.2)\n",
    "    ax.grid(which='major', alpha=0.5)\n",
    "\n",
    "    ax.axis([-12, 210, -12, 48])\n",
    "\n",
    "    for i, txt in enumerate(n):\n",
    "        ax.annotate(txt, (x[i], y[i]), color=(1, 1, 1))"
   ]
  },
  {
   "cell_type": "markdown",
   "execution_count": null,
   "metadata": {},
   "outputs": [],
   "source": [
    "## Схема исходной клавиатуры"
   ]
  },
  {
   "cell_type": "code",
   "execution_count": 51,
   "metadata": {},
   "outputs": [
    {
     "data": {
      "image/png": "[encoded data removed]",
      "text/plain": "<Figure size 432x288 with 1 Axes>"
     },
     "metadata": {
      "image/png": {
       "height": 134,
       "width": 368
      },
      "needs_background": "light"
     },
     "output_type": "display_data"
    }
   ],
   "source": [
    "draw_keyboard(COORDS)"
   ]
  },
  {
   "cell_type": "code",
   "execution_count": 31,
   "metadata": {},
   "outputs": [],
   "source": [
    "# x1, y1 = COORDS[0][0][0], COORDS[0][0][1]\n",
    "# x2, y2 = COORDS[2][11][0], COORDS[2][11][1]\n",
    "\n",
    "# print(calculateDistance(x1, y1, x2, y2))"
   ]
  },
  {
   "cell_type": "markdown",
   "execution_count": 32,
   "metadata": {},
   "outputs": [],
   "source": [
    "## Обработка и подготовка датасета датасета"
   ]
  },
  {
   "cell_type": "code",
   "execution_count": 15,
   "metadata": {},
   "outputs": [],
   "source": [
    "dialogues = pd.read_csv(\"datasets/dialogues.tsv\", sep='\\t')[['dialogue']]"
   ]
  },
  {
   "cell_type": "code",
   "execution_count": 16,
   "metadata": {},
   "outputs": [],
   "source": [
    "dialogues['dialogue'] = dialogues['dialogue'].apply(cleanhtml)"
   ]
  },
  {
   "cell_type": "code",
   "execution_count": 17,
   "metadata": {},
   "outputs": [
    {
     "data": {
      "text/html": "<div>\n<style scoped>\n    .dataframe tbody tr th:only-of-type {\n        vertical-align: middle;\n    }\n\n    .dataframe tbody tr th {\n        vertical-align: top;\n    }\n\n    .dataframe thead th {\n        text-align: right;\n    }\n</style>\n<table border=\"1\" class=\"dataframe\">\n  <thead>\n    <tr style=\"text-align: right;\">\n      <th></th>\n      <th>dialogue</th>\n    </tr>\n  </thead>\n  <tbody>\n    <tr>\n      <th>0</th>\n      <td>приветрасскажиосебеприветподвкусныйкофеекнастр...</td>\n    </tr>\n    <tr>\n      <th>1</th>\n      <td>приветприветкакжизньотличносолнышкосветитптичк...</td>\n    </tr>\n    <tr>\n      <th>2</th>\n      <td>приветкакделадобрыйденьхорошочемувлекаетесьябе...</td>\n    </tr>\n    <tr>\n      <th>3</th>\n      <td>здравствуйтеялешаздравствуйтеяегоряучусьвкласс...</td>\n    </tr>\n    <tr>\n      <th>4</th>\n      <td>приветприветкактвоиделанормальноготовлюськосну...</td>\n    </tr>\n  </tbody>\n</table>\n</div>",
      "text/plain": "                                            dialogue\n0  приветрасскажиосебеприветподвкусныйкофеекнастр...\n1  приветприветкакжизньотличносолнышкосветитптичк...\n2  приветкакделадобрыйденьхорошочемувлекаетесьябе...\n3  здравствуйтеялешаздравствуйтеяегоряучусьвкласс...\n4  приветприветкактвоиделанормальноготовлюськосну..."
     },
     "execution_count": 17,
     "metadata": {},
     "output_type": "execute_result"
    }
   ],
   "source": [
    "dialogues.head()"
   ]
  },
  {
   "cell_type": "code",
   "execution_count": 18,
   "metadata": {},
   "outputs": [],
   "source": [
    "sample = dialogues['dialogue'].str.cat(sep='')\n"
   ]
  },
  {
   "cell_type": "code",
   "execution_count": 137,
   "metadata": {},
   "outputs": [],
   "source": [
    "def count_distance(coords, text, keyboard, thumbs):\n",
    "    mapper = get_mapper(coords, keyboard, thumbs)\n",
    "    distances = {\n",
    "        'ЛМ': 0, \n",
    "        'ЛБ': 0,\n",
    "        'ЛС': 0,\n",
    "        'ЛУ': 0,\n",
    "        'ПУ': 0,\n",
    "        'ПС': 0,\n",
    "        'ПБ': 0,\n",
    "        'ПМ': 0,\n",
    "    }\n",
    "    pairs = {}\n",
    "    default_position = {\n",
    "        'ЛМ': coords[1][0], \n",
    "        'ЛБ': coords[1][1],\n",
    "        'ЛС': coords[1][2],\n",
    "        'ЛУ': coords[1][3],\n",
    "        'ПУ': coords[1][6],\n",
    "        'ПС': coords[1][7],\n",
    "        'ПБ': coords[1][8],\n",
    "        'ПМ': coords[1][9],\n",
    "    }\n",
    "    default_keys = {\n",
    "        'ЛМ': \"ф\",\n",
    "        'ЛБ': \"ы\",\n",
    "        'ЛС': \"в\",\n",
    "        'ЛУ': \"а\",\n",
    "        'ПУ': \"о\",\n",
    "        'ПС': \"л\",\n",
    "        'ПБ': \"д\",\n",
    "        'ПМ': \"ж\",\n",
    "    }\n",
    "    for idx, char in enumerate(text):\n",
    "        x1 = default_position[mapper[char]['thumb']][0]\n",
    "        y1 = default_position[mapper[char]['thumb']][1]\n",
    "\n",
    "        x2 = mapper[char]['x']\n",
    "        y2 = mapper[char]['y']\n",
    "\n",
    "        substr = f\"{default_keys[mapper[char]['thumb']]}{char}\"\n",
    "        if substr not in pairs:\n",
    "            pairs[substr] = {\"total\": 0, \"initial\": 0, \"back\": 0, \"consequent\": 0}\n",
    "\n",
    "        # Считаем нажатие из исходного положения\n",
    "        distance = calculateDistance(x1, y1, x2, y2)\n",
    "\n",
    "        pairs[substr][\"total\"] += distance\n",
    "        pairs[substr][\"initial\"] += distance\n",
    "        pairs[substr][\"consequent\"] += distance\n",
    "\n",
    "        if idx + 1 < len(text):\n",
    "            next_char = text[idx + 1]\n",
    "            # Следующий символ на другом пальце, счатаем возвращение в исходное состояние\n",
    "            if mapper[next_char]['thumb'] != mapper[char]['thumb']:\n",
    "                distance += calculateDistance(x2, y2, x1, y1)\n",
    "\n",
    "                pairs[substr][\"total\"] += distance\n",
    "                pairs[substr][\"back\"] += distance\n",
    "\n",
    "            if idx > 0:\n",
    "                prev_char = text[idx - 1]\n",
    "                substr = f\"{prev_char}{char}\"\n",
    "\n",
    "                if mapper[prev_char]['thumb'] == mapper[char]['thumb']:\n",
    "                    x1 = mapper[prev_char]['x']\n",
    "                    y1 = mapper[prev_char]['y']\n",
    "                    distance = calculateDistance(x1, y1, x2, y2)\n",
    "\n",
    "                    if substr not in pairs:\n",
    "                        pairs[substr] = {\"total\": 0, \"initial\": 0, \"back\": 0, \"consequent\": 0}\n",
    "\n",
    "                    pairs[substr][\"total\"] += distance\n",
    "                    pairs[substr][\"consequent\"] += distance\n",
    "\n",
    "        distances[mapper[char]['thumb']] += distance\n",
    "    return distances, pairs"
   ]
  },
  {
   "cell_type": "code",
   "execution_count": 138,
   "metadata": {},
   "outputs": [
    {
     "data": {
      "text/plain": "{'ЛМ': 9024660.0,\n 'ЛБ': 4639716.0,\n 'ЛС': 17489268.0,\n 'ЛУ': 60981832.153480284,\n 'ПУ': 53762517.850830756,\n 'ПС': 8935290.0,\n 'ПБ': 5026518.0,\n 'ПМ': 7373129.618033489}"
     },
     "execution_count": 138,
     "metadata": {},
     "output_type": "execute_result"
    }
   ],
   "source": [
    "distance, pairs = count_distance(COORDS, sample, QWERTY, THUMBS)\n",
    "distance"
   ]
  },
  {
   "cell_type": "code",
   "execution_count": 139,
   "metadata": {},
   "outputs": [],
   "source": [
    "paird_df = pd.DataFrame(pairs).transpose()"
   ]
  },
  {
   "cell_type": "code",
   "execution_count": 59,
   "metadata": {},
   "outputs": [],
   "source": [
    "finger_distance_heatmap = finger_heatmap(distance)"
   ]
  },
  {
   "cell_type": "code",
   "execution_count": 60,
   "metadata": {},
   "outputs": [
    {
     "data": {
      "text/plain": "[[11828262.34940672,\n  6337647.420447524,\n  21657781.60827405,\n  71501632.19042718,\n  49995849.42897885,\n  11455192.392446253,\n  6821371.471535797,\n  7373129.618033489]]"
     },
     "execution_count": 60,
     "metadata": {},
     "output_type": "execute_result"
    }
   ],
   "source": [
    "finger_distance_heatmap"
   ]
  },
  {
   "cell_type": "markdown",
   "execution_count": null,
   "metadata": {},
   "outputs": [],
   "source": [
    "## Тепловая диаграмма дистанций, пройденных пальцами"
   ]
  },
  {
   "cell_type": "code",
   "execution_count": 24,
   "metadata": {},
   "outputs": [
    {
     "data": {
      "image/png": "[encoded data removed]",
      "text/plain": "<Figure size 432x288 with 2 Axes>"
     },
     "metadata": {
      "image/png": {
       "height": 242,
       "width": 339
      },
      "needs_background": "light"
     },
     "output_type": "display_data"
    }
   ],
   "source": [
    "heat_map = sb.heatmap(finger_distance_heatmap, linewidth=.5, square=True, annot=[['ЛМ','ЛБ','ЛС','ЛУ','ПУ','ПС','ПБ','ПМ']], fmt = '')\n",
    "plt.show()"
   ]
  },
  {
   "cell_type": "code",
   "execution_count": 25,
   "metadata": {},
   "outputs": [],
   "source": [
    "def count_presses(text):\n",
    "    press_count = {}\n",
    "    for idx, char in enumerate(text):\n",
    "        if char not in press_count:\n",
    "            press_count[char] = 1\n",
    "        else:\n",
    "            press_count[char] += 1\n",
    "    return press_count\n"
   ]
  },
  {
   "cell_type": "code",
   "execution_count": 26,
   "metadata": {},
   "outputs": [],
   "source": [
    "press_count = count_presses(sample)"
   ]
  },
  {
   "cell_type": "code",
   "execution_count": 27,
   "metadata": {},
   "outputs": [],
   "source": [
    "def press_heatmap(presses_counts):\n",
    "    return [[presses_counts[item] if item in presses_counts else 0 for item in row] for row in QWERTY]\n",
    "\n",
    "    "
   ]
  },
  {
   "cell_type": "code",
   "execution_count": 28,
   "metadata": {},
   "outputs": [],
   "source": [
    "keypresses_heatmap = press_heatmap(press_count)"
   ]
  },
  {
   "cell_type": "markdown",
   "execution_count": null,
   "metadata": {},
   "outputs": [],
   "source": [
    "## Тепловая диаграмма нажатий"
   ]
  },
  {
   "cell_type": "code",
   "execution_count": 29,
   "metadata": {},
   "outputs": [
    {
     "data": {
      "image/png": "[encoded data removed]",
      "text/plain": "<Figure size 432x288 with 2 Axes>"
     },
     "metadata": {
      "image/png": {
       "height": 239,
       "width": 371
      },
      "needs_background": "light"
     },
     "output_type": "display_data"
    }
   ],
   "source": [
    "heat_map = sb.heatmap(keypresses_heatmap, linewidth=.5, square=True, annot=QWERTY, fmt = '')\n",
    "plt.show()"
   ]
  },
  {
   "cell_type": "markdown",
   "execution_count": null,
   "metadata": {},
   "outputs": [],
   "source": [
    "## Сдвинем нижний ряд правее, чтобы разгрузить левую руку"
   ]
  },
  {
   "cell_type": "code",
   "execution_count": 89,
   "metadata": {},
   "outputs": [
    {
     "data": {
      "image/png": "[encoded data removed]",
      "text/plain": "<Figure size 432x288 with 1 Axes>"
     },
     "metadata": {
      "image/png": {
       "height": 134,
       "width": 368
      },
      "needs_background": "light"
     },
     "output_type": "display_data"
    }
   ],
   "source": [
    "new_coords = shift_row(COORDS, 2, 18)\n",
    "draw_keyboard(new_coords)"
   ]
  },
  {
   "cell_type": "code",
   "execution_count": 104,
   "metadata": {},
   "outputs": [],
   "source": [
    "NEW_THUMBS = [\n",
    "    ['ЛМ','ЛБ','ЛС','ЛУ','ЛУ','ПУ','ПУ','ПС','ПБ','ПМ','ПМ','ПМ'],\n",
    "    ['ЛМ','ЛБ','ЛС','ЛУ','ЛУ','ПУ','ПУ','ПС','ПБ','ПМ','ПМ','ПМ'],\n",
    "    ['ЛБ','ЛС','ЛУ','ЛУ','ПУ','ПУ','ПС','ПБ','ПМ','ПМ','ПМ','ПМ'],\n",
    "]"
   ]
  },
  {
   "cell_type": "code",
   "execution_count": 91,
   "metadata": {},
   "outputs": [
    {
     "data": {
      "text/plain": "{'ЛМ': 11828262.34940672,\n 'ЛБ': 6337647.420447524,\n 'ЛС': 21657781.60827405,\n 'ЛУ': 71501632.19042718,\n 'ПУ': 49995849.42897885,\n 'ПС': 11455192.392446253,\n 'ПБ': 6821371.471535797,\n 'ПМ': 7373129.618033489}"
     },
     "execution_count": 91,
     "metadata": {},
     "output_type": "execute_result"
    }
   ],
   "source": [
    "distance"
   ]
  },
  {
   "cell_type": "code",
   "execution_count": 105,
   "metadata": {},
   "outputs": [
    {
     "data": {
      "text/plain": "{'ЛМ': 2250954.0,\n 'ЛБ': 7293798.0,\n 'ЛС': 11167542.0,\n 'ЛУ': 55737655.95415855,\n 'ПУ': 55689136.6302745,\n 'ПС': 8423028.0,\n 'ПБ': 6686280.0,\n 'ПМ': 11633655.731564235}"
     },
     "execution_count": 105,
     "metadata": {},
     "output_type": "execute_result"
    }
   ],
   "source": [
    "new_distance = count_distance(new_coords, sample, QWERTY, NEW_THUMBS)\n",
    "new_distance"
   ]
  },
  {
   "cell_type": "code",
   "execution_count": 106,
   "metadata": {},
   "outputs": [
    {
     "name": "stdout",
     "output_type": "stream",
     "text": "ЛМ - -12387.847524346531 м\nЛБ - -8325.435054531681 м\nЛС - -7041.837094733156 м\nЛУ - -26076.225747454682 м\nПУ - 12730.216674604811 м\nПС - 1082.832471235375 м\nПБ - 5987.898 м\nПМ - 4260.5261135307455 м\n"
    }
   ],
   "source": [
    "for finger, value in new_distance.items():\n",
    "    print(f\"{finger} - {(new_distance[finger] - distance[finger]) / 1000} м\")"
   ]
  },
  {
   "cell_type": "code",
   "execution_count": 107,
   "metadata": {},
   "outputs": [],
   "source": [
    "new_finger_distance_heatmap = finger_heatmap(distance)"
   ]
  },
  {
   "cell_type": "code",
   "execution_count": 108,
   "metadata": {},
   "outputs": [
    {
     "data": {
      "text/plain": "[[14638801.52434653,\n  15619233.05453168,\n  18209379.094733156,\n  81813881.70161323,\n  42958919.955669686,\n  7340195.528764625,\n  698382.0,\n  7373129.618033489]]"
     },
     "execution_count": 108,
     "metadata": {},
     "output_type": "execute_result"
    }
   ],
   "source": [
    "new_finger_distance_heatmap"
   ]
  },
  {
   "cell_type": "markdown",
   "execution_count": null,
   "metadata": {},
   "outputs": [],
   "source": [
    "## Тепловая диаграмма дистанций, пройденных пальцами НОВАЯ"
   ]
  },
  {
   "cell_type": "code",
   "execution_count": 109,
   "metadata": {},
   "outputs": [
    {
     "data": {
      "image/png": "[encoded data removed]",
      "text/plain": "<Figure size 432x288 with 2 Axes>"
     },
     "metadata": {
      "image/png": {
       "height": 242,
       "width": 339
      },
      "needs_background": "light"
     },
     "output_type": "display_data"
    }
   ],
   "source": [
    "heat_map = sb.heatmap(new_finger_distance_heatmap, linewidth=.5, square=True, annot=[['ЛМ','ЛБ','ЛС','ЛУ','ПУ','ПС','ПБ','ПМ']], fmt = '')\n",
    "plt.show()"
   ]
  },
  {
   "cell_type": "code",
   "execution_count": 71,
   "metadata": {},
   "outputs": [],
   "source": [
    "press_count = count_presses(sample)"
   ]
  },
  {
   "cell_type": "code",
   "execution_count": null,
   "metadata": {},
   "outputs": [],
   "source": []
  }
 ]
}