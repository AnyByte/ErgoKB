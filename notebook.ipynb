{
 "nbformat": 4,
 "nbformat_minor": 2,
 "metadata": {
  "language_info": {
   "name": "python",
   "codemirror_mode": {
    "name": "ipython",
    "version": 3
   },
   "version": "3.7.3-final"
  },
  "orig_nbformat": 2,
  "file_extension": ".py",
  "mimetype": "text/x-python",
  "name": "python",
  "npconvert_exporter": "python",
  "pygments_lexer": "ipython3",
  "version": 3,
  "pycharm": {
   "stem_cell": {
    "cell_type": "raw",
    "source": [],
    "metadata": {
     "collapsed": false
    }
   }
  },
  "kernelspec": {
   "name": "python3",
   "language": "python",
   "display_name": "Python 3"
  }
 },
 "cells": [
  {
   "cell_type": "markdown",
   "execution_count": null,
   "metadata": {},
   "outputs": [],
   "source": [
    "# Импорт библиотек"
   ]
  },
  {
   "cell_type": "code",
   "execution_count": 1,
   "metadata": {},
   "outputs": [
    {
     "ename": "ImportError",
     "evalue": "cannot import name 'count_distance' from 'utils' (c:\\Users\\maksi\\Desktop\\ErgoKB\\utils.py)",
     "output_type": "error",
     "traceback": [
      "\u001b[1;31m---------------------------------------------------------------------------\u001b[0m",
      "\u001b[1;31mImportError\u001b[0m                               Traceback (most recent call last)",
      "\u001b[1;32m<ipython-input-1-e0ab5bb0c932>\u001b[0m in \u001b[0;36m<module>\u001b[1;34m\u001b[0m\n\u001b[0;32m     10\u001b[0m \u001b[1;32mimport\u001b[0m \u001b[0mre\u001b[0m\u001b[1;33m\u001b[0m\u001b[1;33m\u001b[0m\u001b[0m\n\u001b[0;32m     11\u001b[0m \u001b[1;33m\u001b[0m\u001b[0m\n\u001b[1;32m---> 12\u001b[1;33m \u001b[1;32mfrom\u001b[0m \u001b[0mutils\u001b[0m \u001b[1;32mimport\u001b[0m \u001b[0mcleanhtml\u001b[0m\u001b[1;33m,\u001b[0m \u001b[0mcalculateDistance\u001b[0m\u001b[1;33m,\u001b[0m \u001b[0mfinger_heatmap\u001b[0m\u001b[1;33m,\u001b[0m \u001b[0mshift_col\u001b[0m\u001b[1;33m,\u001b[0m \u001b[0mshift_row\u001b[0m\u001b[1;33m,\u001b[0m \u001b[0mget_mapper\u001b[0m\u001b[1;33m,\u001b[0m \u001b[0mdraw_keyboard\u001b[0m\u001b[1;33m,\u001b[0m \u001b[0mcount_distance\u001b[0m\u001b[1;33m,\u001b[0m \u001b[0mcount_presses\u001b[0m\u001b[1;33m,\u001b[0m \u001b[0mpress_heatmap\u001b[0m\u001b[1;33m,\u001b[0m \u001b[0mzone_distances\u001b[0m\u001b[1;33m,\u001b[0m \u001b[0mdistance_deltas\u001b[0m\u001b[1;33m,\u001b[0m \u001b[0mgenerate_strokes\u001b[0m\u001b[1;33m,\u001b[0m \u001b[0mcount_stroke_distance\u001b[0m\u001b[1;33m,\u001b[0m \u001b[0mprocess_strokes\u001b[0m\u001b[1;33m,\u001b[0m \u001b[0mdraw_stroke_lines\u001b[0m\u001b[1;33m\u001b[0m\u001b[1;33m\u001b[0m\u001b[0m\n\u001b[0m\u001b[0;32m     13\u001b[0m \u001b[1;33m\u001b[0m\u001b[0m\n\u001b[0;32m     14\u001b[0m \u001b[1;32mfrom\u001b[0m \u001b[0mconsts\u001b[0m \u001b[1;32mimport\u001b[0m \u001b[0mQWERTY\u001b[0m\u001b[1;33m,\u001b[0m \u001b[0mTHUMBS\u001b[0m\u001b[1;33m,\u001b[0m \u001b[0mCOORDS\u001b[0m\u001b[1;33m,\u001b[0m \u001b[0mdefault_position\u001b[0m\u001b[1;33m\u001b[0m\u001b[1;33m\u001b[0m\u001b[0m\n",
      "\u001b[1;31mImportError\u001b[0m: cannot import name 'count_distance' from 'utils' (c:\\Users\\maksi\\Desktop\\ErgoKB\\utils.py)"
     ]
    }
   ],
   "source": [
    "import matplotlib.pyplot as plt\n",
    "import numpy as np\n",
    "import seaborn as sb\n",
    "import pandas as pd\n",
    "from bs4 import BeautifulSoup\n",
    "import copy\n",
    "import math\n",
    "import json\n",
    "import pickle\n",
    "import re\n",
    "\n",
    "from utils import cleanhtml, calculateDistance, finger_heatmap, shift_col, shift_row, get_mapper, draw_keyboard, count_presses, press_heatmap, zone_distances, distance_deltas, generate_strokes, count_stroke_distance, process_strokes, draw_stroke_lines\n",
    "\n",
    "from consts import QWERTY, THUMBS, COORDS, default_position"
   ]
  },
  {
   "cell_type": "code",
   "execution_count": null,
   "metadata": {},
   "outputs": [],
   "source": [
    "# Enable inline plots\n",
    "%matplotlib inline\n",
    "pd.set_option(\"display.width\", 70)\n",
    "\n",
    "# Set plots formats to save high resolution PNG\n",
    "from IPython.display import set_matplotlib_formats\n",
    "set_matplotlib_formats(\"retina\")"
   ]
  },
  {
   "cell_type": "markdown",
   "execution_count": 3,
   "metadata": {},
   "outputs": [
    {
     "ename": "SyntaxError",
     "evalue": "invalid syntax (<ipython-input-3-5bbc0ce4018e>, line 2)",
     "output_type": "error",
     "traceback": [
      "\u001b[1;36m  File \u001b[1;32m\"<ipython-input-3-5bbc0ce4018e>\"\u001b[1;36m, line \u001b[1;32m2\u001b[0m\n\u001b[1;33m    - ЛМ - левый мезинец\u001b[0m\n\u001b[1;37m                       ^\u001b[0m\n\u001b[1;31mSyntaxError\u001b[0m\u001b[1;31m:\u001b[0m invalid syntax\n"
     ]
    }
   ],
   "source": [
    "## Распределение пальцев по зонам\n",
    "- ЛМ - левый мезинец\n",
    "- ЛБ - левый безымянный\n",
    "- ЛС - левый средний\n",
    "- ЛУ - левый указательный\n",
    "- ПУ - правый указательный\n",
    "- ПС - правый средний\n",
    "- ПБ - правый безымянный\n",
    "- ПМ - правый мезинец"
   ]
  },
  {
   "cell_type": "markdown",
   "execution_count": null,
   "metadata": {},
   "outputs": [],
   "source": [
    "## Схема исходной клавиатуры"
   ]
  },
  {
   "cell_type": "code",
   "execution_count": null,
   "metadata": {},
   "outputs": [],
   "source": [
    "draw_keyboard(COORDS, QWERTY)"
   ]
  },
  {
   "cell_type": "markdown",
   "execution_count": 32,
   "metadata": {},
   "outputs": [],
   "source": [
    "## Обработка и подготовка датасета"
   ]
  },
  {
   "cell_type": "code",
   "execution_count": null,
   "metadata": {},
   "outputs": [],
   "source": [
    "# dialogues = pd.read_csv(\"datasets/dialogues.tsv\", sep='\\t')[['dialogue']]\n",
    "# dialogues['dialogue'] = dialogues['dialogue'].apply(cleanhtml)\n",
    "# sample = dialogues['dialogue'].str.cat(sep='')\n",
    "with open('sample.pkl', 'rb') as f:\n",
    "    sample = pickle.load(f)\n",
    "# strokes = [{\n",
    "#     \"stroke\": k, \n",
    "#     \"count\": v[\"coun# t\"], \n",
    "#     \"zone\": v[\"zone\"]} for k, v in generate_strokes(sample, THUMBS, QWERTY).items()]\n",
    "with open('strokes.pkl', 'rb') as f:\n",
    "    strokes = pickle.load(f)"
   ]
  },
  {
   "cell_type": "code",
   "execution_count": null,
   "metadata": {},
   "outputs": [],
   "source": [
    "processed_strokes = process_strokes(strokes, COORDS, QWERTY)\n",
    "# with open('processed_strokes.pkl', 'rb') as f:\n",
    "#     processed_strokes = pickle.load(f)"
   ]
  },
  {
   "cell_type": "markdown",
   "execution_count": null,
   "metadata": {},
   "outputs": [],
   "source": [
    "## Тепловая карта пройденного расстояния"
   ]
  },
  {
   "cell_type": "code",
   "execution_count": null,
   "metadata": {},
   "outputs": [],
   "source": [
    "distances, pairs = processed_strokes[\"distances\"], processed_strokes[\"pairs\"]"
   ]
  },
  {
   "cell_type": "code",
   "execution_count": null,
   "metadata": {},
   "outputs": [],
   "source": [
    "pairs_df = pd.DataFrame([{\"pair\": k, \"distance\": v} for k, v in pairs.items()]).sort_values(by='distance', ascending=False)\n",
    "mean = pairs_df[\"distance\"].mean()\n",
    "median = pairs_df[\"distance\"].median()\n",
    "max_value = pairs_df[\"distance\"].max()\n",
    "row_count = pairs_df.shape[0]\n",
    "print(f'Mean: {mean}, Median: {median}, Max: {max_value}, Count: {row_count}')"
   ]
  },
  {
   "cell_type": "code",
   "execution_count": null,
   "metadata": {},
   "outputs": [],
   "source": [
    "draw_stroke_lines(pairs, COORDS, QWERTY, row_count, max_value, 15)"
   ]
  },
  {
   "cell_type": "code",
   "execution_count": null,
   "metadata": {},
   "outputs": [],
   "source": [
    "pairs_df[pairs_df[\"distance\"] >= mean]"
   ]
  },
  {
   "cell_type": "code",
   "execution_count": null,
   "metadata": {},
   "outputs": [],
   "source": [
    "finger_distance_heatmap = finger_heatmap(distances)\n",
    "heat_map = sb.heatmap(finger_distance_heatmap, linewidth=.5, square=True, annot=[['ЛМ','ЛБ','ЛС','ЛУ','ПУ','ПС','ПБ','ПМ']], fmt = '')\n",
    "heat_map.set_title('Тепловая карта пройденного расстояния', fontsize=10)\n",
    "heat_map.axis('off')\n",
    "plt.show()"
   ]
  },
  {
   "cell_type": "markdown",
   "execution_count": null,
   "metadata": {},
   "outputs": [],
   "source": [
    "## Тепловая карта частоты нажатий"
   ]
  },
  {
   "cell_type": "code",
   "execution_count": null,
   "metadata": {},
   "outputs": [],
   "source": [
    "press_count = count_presses(sample)\n",
    "keypresses_heatmap = press_heatmap(press_count, QWERTY)"
   ]
  },
  {
   "cell_type": "code",
   "execution_count": null,
   "metadata": {},
   "outputs": [],
   "source": [
    "heat_map = sb.heatmap(keypresses_heatmap, linewidth=.5, square=True, annot=QWERTY, fmt = '')\n",
    "heat_map.set_title('Тепловая карта частоты нажатий', fontsize=10)\n",
    "heat_map.axis('off')\n",
    "plt.show()"
   ]
  },
  {
   "cell_type": "markdown",
   "execution_count": null,
   "metadata": {},
   "outputs": [],
   "source": [
    "## Частота нажаний и расстояние от исходного положения пальцев по каждой зоне"
   ]
  },
  {
   "cell_type": "markdown",
   "execution_count": null,
   "metadata": {},
   "outputs": [],
   "source": [
    "### Левый мизинец"
   ]
  },
  {
   "cell_type": "code",
   "execution_count": null,
   "metadata": {},
   "outputs": [],
   "source": [
    "pd.DataFrame(zone_distances('ЛМ', press_count))"
   ]
  },
  {
   "cell_type": "markdown",
   "execution_count": null,
   "metadata": {},
   "outputs": [],
   "source": [
    "### Левый безымянный\n"
   ]
  },
  {
   "cell_type": "code",
   "execution_count": null,
   "metadata": {},
   "outputs": [],
   "source": [
    "pd.DataFrame(zone_distances('ЛБ', press_count))\n"
   ]
  },
  {
   "cell_type": "markdown",
   "execution_count": null,
   "metadata": {},
   "outputs": [],
   "source": [
    "### Левый средний\n"
   ]
  },
  {
   "cell_type": "code",
   "execution_count": null,
   "metadata": {},
   "outputs": [],
   "source": [
    "pd.DataFrame(zone_distances('ЛС', press_count))"
   ]
  },
  {
   "cell_type": "markdown",
   "execution_count": null,
   "metadata": {},
   "outputs": [],
   "source": [
    "### Левый указательный"
   ]
  },
  {
   "cell_type": "code",
   "execution_count": null,
   "metadata": {},
   "outputs": [],
   "source": [
    "pd.DataFrame(zone_distances('ЛУ', press_count))"
   ]
  },
  {
   "cell_type": "markdown",
   "execution_count": null,
   "metadata": {},
   "outputs": [],
   "source": [
    "### Правый указательный\n"
   ]
  },
  {
   "cell_type": "code",
   "execution_count": null,
   "metadata": {},
   "outputs": [],
   "source": [
    "pd.DataFrame(zone_distances('ПУ', press_count))"
   ]
  },
  {
   "cell_type": "markdown",
   "execution_count": null,
   "metadata": {},
   "outputs": [],
   "source": [
    "### Правый средний"
   ]
  },
  {
   "cell_type": "code",
   "execution_count": null,
   "metadata": {},
   "outputs": [],
   "source": [
    "pd.DataFrame(zone_distances('ПС', press_count))"
   ]
  },
  {
   "cell_type": "markdown",
   "execution_count": null,
   "metadata": {},
   "outputs": [],
   "source": [
    "### Правый безымянный"
   ]
  },
  {
   "cell_type": "code",
   "execution_count": null,
   "metadata": {},
   "outputs": [],
   "source": [
    "pd.DataFrame(zone_distances('ПБ', press_count))"
   ]
  },
  {
   "cell_type": "markdown",
   "execution_count": null,
   "metadata": {},
   "outputs": [],
   "source": [
    "### Правый мизинец"
   ]
  },
  {
   "cell_type": "code",
   "execution_count": null,
   "metadata": {},
   "outputs": [],
   "source": [
    "pd.DataFrame(zone_distances('ПМ', press_count))"
   ]
  },
  {
   "cell_type": "markdown",
   "execution_count": null,
   "metadata": {},
   "outputs": [],
   "source": [
    "## Переставим кнопки в каждой зоне так, чтобы наиболее частые клавиши находились как можно ближе к исходному положению"
   ]
  },
  {
   "cell_type": "code",
   "execution_count": null,
   "metadata": {},
   "outputs": [],
   "source": [
    "QWERTY_1 = [\n",
    "    ['й','ц','у','к','м','г','н','ш','щ','ж','ъ',''],\n",
    "    ['я','ч','с','е','а','т','о','л','д','з','э',''],\n",
    "    ['ф','ы','в','и','п','ь','р','б','ю','х','',''],\n",
    "]"
   ]
  },
  {
   "cell_type": "code",
   "execution_count": null,
   "metadata": {},
   "outputs": [],
   "source": [
    "strokes_1 = [{\n",
    "    \"stroke\": k, \n",
    "    \"count\": v[\"count\"], \n",
    "    \"zone\": v[\"zone\"]} for k, v in generate_strokes(sample, QWERTY_1).items()]"
   ]
  },
  {
   "cell_type": "code",
   "execution_count": null,
   "metadata": {},
   "outputs": [],
   "source": [
    "draw_keyboard(COORDS, QWERTY_1)"
   ]
  },
  {
   "cell_type": "code",
   "execution_count": null,
   "metadata": {},
   "outputs": [],
   "source": [
    "keypresses_heatmap = press_heatmap(press_count, QWERTY_1)\n",
    "heat_map = sb.heatmap(keypresses_heatmap, linewidth=.5, square=True, annot=QWERTY_1, fmt = '')\n",
    "heat_map.set_title('Тепловая карта частоты нажатий', fontsize=10)\n",
    "heat_map.axis('off')\n",
    "plt.show()"
   ]
  },
  {
   "cell_type": "code",
   "execution_count": null,
   "metadata": {},
   "outputs": [],
   "source": [
    "processed_strokes_1 = process_strokes(strokes, COORDS, QWERTY_1)\n",
    "# with open('processed_strokes_1.pkl', 'rb') as f:\n",
    "#     processed_strokes_1 = pickle.load(f)"
   ]
  },
  {
   "cell_type": "code",
   "execution_count": null,
   "metadata": {},
   "outputs": [],
   "source": [
    "distances_1, pairs_1 = processed_strokes_1[\"distances\"], processed_strokes_1[\"pairs\"]"
   ]
  },
  {
   "cell_type": "code",
   "execution_count": null,
   "metadata": {},
   "outputs": [],
   "source": [
    "distance_deltas(distances, distances_1)"
   ]
  },
  {
   "cell_type": "code",
   "execution_count": null,
   "metadata": {},
   "outputs": [],
   "source": [
    "pairs_df_1 = pd.DataFrame([{\"pair\": k, \"distance\": v} for k, v in pairs_1.items()]).sort_values(by='distance', ascending=False)\n",
    "mean = pairs_df_1[\"distance\"].mean()\n",
    "median = pairs_df_1[\"distance\"].median()\n",
    "max_value = pairs_df_1[\"distance\"].max()\n",
    "row_count = pairs_df_1.shape[0]\n",
    "print(f'Mean: {mean}, Median: {median}, Max: {max_value}, Count: {row_count}')"
   ]
  },
  {
   "cell_type": "code",
   "execution_count": null,
   "metadata": {},
   "outputs": [],
   "source": [
    "draw_stroke_lines(pairs_1, COORDS, QWERTY_1, row_count, max_value, 15)"
   ]
  },
  {
   "cell_type": "code",
   "execution_count": null,
   "metadata": {},
   "outputs": [],
   "source": [
    "pairs_df_1[pairs_df[\"distance\"] >= mean]"
   ]
  },
  {
   "cell_type": "code",
   "execution_count": null,
   "metadata": {},
   "outputs": [],
   "source": [
    "finger_distance_heatmap_1 = finger_heatmap(distances_1)\n",
    "heat_map = sb.heatmap(finger_distance_heatmap_1, linewidth=.5, square=True, annot=[['ЛМ','ЛБ','ЛС','ЛУ','ПУ','ПС','ПБ','ПМ']], fmt = '')\n",
    "heat_map.set_title('Тепловая карта пройденного расстояния', fontsize=10)\n",
    "heat_map.axis('off')\n",
    "plt.show()"
   ]
  },
  {
   "cell_type": "markdown",
   "metadata": {},
   "source": [
    "## Переставим Т и Ч местами"
   ]
  },
  {
   "cell_type": "code",
   "execution_count": null,
   "metadata": {},
   "outputs": [],
   "source": [
    "QWERTY_2 = [\n",
    "    ['й','ц','с','к','м','г','д','ш','щ','ж','ъ',''],\n",
    "    ['я','т','у','е','а','ч','о','л','н','з','э',''],\n",
    "    ['ф','ы','в','и','п','ь','р','б','ю','х','',''],\n",
    "]"
   ]
  },
  {
   "cell_type": "code",
   "execution_count": null,
   "metadata": {},
   "outputs": [],
   "source": [
    "strokes_2 = [{\n",
    "    \"stroke\": k, \n",
    "    \"count\": v[\"count\"], \n",
    "    \"zone\": v[\"zone\"]} for k, v in generate_strokes(sample, QWERTY_2).items()]"
   ]
  },
  {
   "cell_type": "code",
   "execution_count": null,
   "metadata": {},
   "outputs": [],
   "source": [
    "draw_keyboard(COORDS, QWERTY_2)"
   ]
  },
  {
   "cell_type": "code",
   "execution_count": null,
   "metadata": {},
   "outputs": [],
   "source": [
    "keypresses_heatmap = press_heatmap(press_count, QWERTY_2)\n",
    "heat_map = sb.heatmap(keypresses_heatmap, linewidth=.5, square=True, annot=QWERTY_2, fmt = '')\n",
    "heat_map.set_title('Тепловая карта частоты нажатий', fontsize=10)\n",
    "heat_map.axis('off')\n",
    "plt.show()"
   ]
  },
  {
   "cell_type": "code",
   "execution_count": null,
   "metadata": {},
   "outputs": [],
   "source": [
    "processed_strokes_2 = process_strokes(strokes_2, COORDS, QWERTY_2)\n",
    "# with open('processed_strokes_1.pkl', 'rb') as f:\n",
    "#     processed_strokes_1 = pickle.load(f)"
   ]
  },
  {
   "cell_type": "code",
   "execution_count": null,
   "metadata": {},
   "outputs": [],
   "source": [
    "distances_2, pairs_2 = processed_strokes_2[\"distances\"], processed_strokes_2[\"pairs\"]"
   ]
  },
  {
   "cell_type": "code",
   "execution_count": null,
   "metadata": {},
   "outputs": [],
   "source": [
    "distance_deltas(distances, distances_2)"
   ]
  },
  {
   "cell_type": "code",
   "execution_count": null,
   "metadata": {},
   "outputs": [],
   "source": [
    "pairs_df_2 = pd.DataFrame([{\"pair\": k, \"distance\": v} for k, v in pairs_2.items()]).sort_values(by='distance', ascending=False)\n",
    "mean = pairs_df_2[\"distance\"].mean()\n",
    "median = pairs_df_2[\"distance\"].median()\n",
    "max_value = pairs_df_2[\"distance\"].max()\n",
    "row_count = pairs_df_2.shape[0]\n",
    "print(f'Mean: {mean}, Median: {median}, Max: {max_value}, Count: {row_count}')"
   ]
  },
  {
   "cell_type": "code",
   "execution_count": null,
   "metadata": {},
   "outputs": [],
   "source": [
    "draw_stroke_lines(pairs_2, COORDS, QWERTY_2, row_count, max_value, 15)"
   ]
  },
  {
   "cell_type": "code",
   "execution_count": null,
   "metadata": {},
   "outputs": [],
   "source": []
  }
 ]
}