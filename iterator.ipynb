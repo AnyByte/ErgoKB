{
 "nbformat": 4,
 "nbformat_minor": 2,
 "metadata": {
  "language_info": {
   "name": "python",
   "codemirror_mode": {
    "name": "ipython",
    "version": 3
   },
   "version": "3.7.3-final"
  },
  "orig_nbformat": 2,
  "file_extension": ".py",
  "mimetype": "text/x-python",
  "name": "python",
  "npconvert_exporter": "python",
  "pygments_lexer": "ipython3",
  "version": 3,
  "kernelspec": {
   "name": "python37364bitvenvvenv422eb2b20ae44e69b19ecbeacc8aa3a6",
   "display_name": "Python 3.7.3 64-bit ('venv': venv)"
  }
 },
 "cells": [
  {
   "cell_type": "code",
   "execution_count": 12,
   "metadata": {},
   "outputs": [],
   "source": [
    "import matplotlib.pyplot as plt\n",
    "import numpy as np\n",
    "import seaborn as sb\n",
    "import pandas as pd\n",
    "from bs4 import BeautifulSoup\n",
    "from functools import partial\n",
    "import copy\n",
    "import math\n",
    "import json\n",
    "import pickle\n",
    "import re\n",
    "\n",
    "from multiprocessing import Pool, Manager, cpu_count\n",
    "from utils import cleanhtml, calculateDistance, finger_heatmap, shift_col, shift_row, get_mapper, draw_keyboard, count_presses, press_heatmap, zone_distances, distance_deltas, generate_strokes, count_stroke_distance, process_strokes, draw_stroke_lines\n",
    "\n",
    "from consts import QWERTY, THUMBS, COORDS, default_position"
   ]
  },
  {
   "cell_type": "code",
   "execution_count": 2,
   "metadata": {},
   "outputs": [],
   "source": [
    "# Enable inline plots\n",
    "%matplotlib inline\n",
    "pd.set_option(\"display.width\", 70)\n",
    "\n",
    "# Set plots formats to save high resolution PNG\n",
    "from IPython.display import set_matplotlib_formats\n",
    "set_matplotlib_formats(\"retina\")"
   ]
  },
  {
   "cell_type": "code",
   "execution_count": 3,
   "metadata": {},
   "outputs": [],
   "source": [
    "# dialogues = pd.read_csv(\"datasets/dialogues.tsv\", sep='\\t')[['dialogue']]\n",
    "# dialogues['dialogue'] = dialogues['dialogue'].apply(cleanhtml)\n",
    "# sample = dialogues['dialogue'].str.cat(sep='')\n",
    "with open('sample.pkl', 'rb') as f:\n",
    "    sample = pickle.load(f)\n",
    "# strokes = [{\n",
    "#     \"stroke\": k, \n",
    "#     \"count\": v[\"coun# t\"], \n",
    "#     \"zone\": v[\"zone\"]} for k, v in generate_strokes(sample, THUMBS, QWERTY).items()]\n",
    "with open('strokes.pkl', 'rb') as f:\n",
    "    strokes = pickle.load(f)"
   ]
  },
  {
   "cell_type": "code",
   "execution_count": 4,
   "metadata": {},
   "outputs": [],
   "source": [
    "def get_variant_distance(sample, QWERTY):\n",
    "    strokes = [\n",
    "        {\n",
    "            \"stroke\": k, \n",
    "            \"count\": v[\"count\"], \n",
    "            \"zone\": v[\"zone\"]\n",
    "        } for k, v in generate_strokes(sample, QWERTY).items()\n",
    "    ]\n",
    "    processed_strokes = process_strokes(strokes, COORDS, QWERTY)\n",
    "    distances_new, pairs = processed_strokes[\"distances\"], processed_strokes[\"pairs\"]\n",
    "    pairs_df = pd.DataFrame([\n",
    "        {\n",
    "            \"pair\": k, \n",
    "            \"distance\": v\n",
    "        } for k, v in pairs.items()\n",
    "    ]).sort_values(by='distance', ascending=False)\n",
    "    mean = pairs_df[\"distance\"].mean()\n",
    "    median = pairs_df[\"distance\"].median()\n",
    "    max_value = pairs_df[\"distance\"].max()\n",
    "    sum_value = pairs_df[\"distance\"].sum()\n",
    "    row_count = pairs_df.shape[0]\n",
    "    return mean, median, max_value, sum_value, row_count\n",
    "    # print(f'Mean: {mean}, Median: {median}, Max: {max_value}, Count: {row_count}')\n",
    "    # draw_stroke_lines(pairs, COORDS, QWERTY, row_count, max_value, 15)"
   ]
  },
  {
   "cell_type": "code",
   "execution_count": 10,
   "metadata": {},
   "outputs": [],
   "source": [
    "QWERTY = [\n",
    "    ['й','ц','у','к','е','н','г','ш','щ','з','х','ъ'],\n",
    "    ['ф','ы','в','а','п','р','о','л','д','ж','э',''],\n",
    "    ['я','ч','с','м','и','т','ь','б','ю','','',''],\n",
    "]\n",
    "QWERTY_VARIANTS = []\n",
    "for row_idx_1, ROW in enumerate(QWERTY):\n",
    "        for key_idx_1, key in enumerate(ROW):\n",
    "            first_key = QWERTY[row_idx_1][key_idx_1]\n",
    "            for row_idx_2, ROW in enumerate(QWERTY):\n",
    "                for key_idx_2, key in enumerate(ROW):\n",
    "                    # print(f\"{first_key} {second_key}\")\n",
    "                    second_key = QWERTY[row_idx_2][key_idx_2]\n",
    "                    QWERTY[row_idx_1][key_idx_1] = second_key\n",
    "                    QWERTY[row_idx_2][key_idx_2] = first_key\n",
    "                    # print(f\"{QWERTY[0]}\\n{QWERTY[1]}\\n{QWERTY[2]}\")\n",
    "                    QWERTY_VARIANTS.append(QWERTY)\n",
    "                    QWERTY[row_idx_1][key_idx_1] = first_key\n",
    "                    QWERTY[row_idx_2][key_idx_2] = second_key"
   ]
  },
  {
   "cell_type": "code",
   "execution_count": 13,
   "metadata": {},
   "outputs": [],
   "source": [
    "num_workers = cpu_count()\n",
    "p = Pool(num_workers)\n",
    "manager = Manager()\n",
    "func = partial(get_variant_distance, sample)\n",
    "results = p.map_async(func, QWERTY_VARIANTS).get()\n",
    "p.close()\n",
    "p.join()\n",
    "for distance_info in results:\n",
    "    mean, median, max_value, sum_value, row_count = distance_info\n",
    "    print(f\"{mean} / {median} / {max_value} / {sum_value} / {row_count}\")"
   ]
  },
  {
   "cell_type": "code",
   "execution_count": null,
   "metadata": {},
   "outputs": [],
   "source": []
  }
 ]
}